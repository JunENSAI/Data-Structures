{
 "cells": [
  {
   "cell_type": "markdown",
   "metadata": {},
   "source": [
    "## Introduction\n",
    "\n",
    "In Python, a list is an ordered, **mutable** data structure that can contain heterogeneous elements (numbers, strings, objects, etc.).\n",
    "\n",
    "It is declared with square brackets []."
   ]
  },
  {
   "cell_type": "code",
   "execution_count": 2,
   "metadata": {},
   "outputs": [
    {
     "name": "stdout",
     "output_type": "stream",
     "text": [
      "[1, 'deux', 3.0, True]\n"
     ]
    }
   ],
   "source": [
    "l1 = [1, \"deux\", 3.0, True]\n",
    "print(l1) "
   ]
  },
  {
   "cell_type": "markdown",
   "metadata": {},
   "source": [
    "### Slicing and indexing\n",
    "\n",
    "A list can be sliced and indexed like a string.\n",
    "\n"
   ]
  },
  {
   "cell_type": "markdown",
   "metadata": {},
   "source": [
    "#### Slicing\n",
    "\n",
    "Slicing allows you to extract a part of a list:\n",
    "\n",
    "- my_list[start:stop] returns a new list from index start to stop-1."
   ]
  },
  {
   "cell_type": "code",
   "execution_count": null,
   "metadata": {},
   "outputs": [
    {
     "name": "stdout",
     "output_type": "stream",
     "text": [
      "[1, 'deux']\n"
     ]
    }
   ],
   "source": [
    "print(l1[0:2])"
   ]
  },
  {
   "cell_type": "markdown",
   "metadata": {},
   "source": [
    "#### Indexing\n",
    "\n",
    "Indexing allows you to access a specific element of a list:\n",
    "\n",
    "- my_list[index] returns the element at index index."
   ]
  },
  {
   "cell_type": "code",
   "execution_count": 4,
   "metadata": {},
   "outputs": [
    {
     "name": "stdout",
     "output_type": "stream",
     "text": [
      "1\n",
      "True\n"
     ]
    }
   ],
   "source": [
    "print(l1[0]) # first element\n",
    "print(l1[-1]) # last element"
   ]
  },
  {
   "cell_type": "markdown",
   "metadata": {},
   "source": [
    "### List methods\n",
    "\n",
    "- `append()`: Add an element to the end of the list.\n",
    "- `insert()`: Insert an element at a specific index in the list.\n",
    "- `remove()`: Remove an element from the list.\n",
    "- `pop()`: Remove and return the last element of the list.\n",
    "- `clear()`: Remove all elements from the list.\n",
    "- `index()`: Return the index of the first occurrence of an element in the list.\n",
    "- `count()`: Return the number of times an element appears in the list.\n",
    "- `reverse()`: Reverse the order of the elements in the list.\n",
    "- `sort()`: Sort the elements of the list in ascending order."
   ]
  },
  {
   "cell_type": "code",
   "execution_count": 5,
   "metadata": {},
   "outputs": [
    {
     "name": "stdout",
     "output_type": "stream",
     "text": [
      "[1, 'deux', 3.0, True, '2025']\n"
     ]
    }
   ],
   "source": [
    "l1.append(\"2025\")\n",
    "print(l1)"
   ]
  },
  {
   "cell_type": "code",
   "execution_count": 6,
   "metadata": {},
   "outputs": [
    {
     "name": "stdout",
     "output_type": "stream",
     "text": [
      "[False, 1, 'deux', 3.0, True, '2025']\n"
     ]
    }
   ],
   "source": [
    "l1.insert(0, False)\n",
    "print(l1)"
   ]
  },
  {
   "cell_type": "code",
   "execution_count": 7,
   "metadata": {},
   "outputs": [
    {
     "name": "stdout",
     "output_type": "stream",
     "text": [
      "[False, 1, 3.0, True, '2025']\n"
     ]
    }
   ],
   "source": [
    "l1.remove(\"deux\")\n",
    "print(l1)"
   ]
  },
  {
   "cell_type": "code",
   "execution_count": 8,
   "metadata": {},
   "outputs": [
    {
     "name": "stdout",
     "output_type": "stream",
     "text": [
      "2025\n",
      "[False, 1, 3.0, True]\n"
     ]
    }
   ],
   "source": [
    "last = l1.pop()\n",
    "print(last)  # '2025'\n",
    "print(l1)"
   ]
  },
  {
   "cell_type": "code",
   "execution_count": 9,
   "metadata": {},
   "outputs": [
    {
     "name": "stdout",
     "output_type": "stream",
     "text": [
      "[]\n"
     ]
    }
   ],
   "source": [
    "l1.clear()\n",
    "print(l1)"
   ]
  },
  {
   "cell_type": "code",
   "execution_count": 11,
   "metadata": {},
   "outputs": [
    {
     "name": "stdout",
     "output_type": "stream",
     "text": [
      "2\n"
     ]
    }
   ],
   "source": [
    "animals = [\"dog\", \"cat\", \"bird\", \"fish\", \"rabbit\",\"fish\", \"hamster\"]\n",
    "print(animals.index(\"bird\"))"
   ]
  },
  {
   "cell_type": "code",
   "execution_count": 12,
   "metadata": {},
   "outputs": [
    {
     "name": "stdout",
     "output_type": "stream",
     "text": [
      "2\n"
     ]
    }
   ],
   "source": [
    "print(animals.count(\"fish\"))"
   ]
  },
  {
   "cell_type": "code",
   "execution_count": 14,
   "metadata": {},
   "outputs": [
    {
     "name": "stdout",
     "output_type": "stream",
     "text": [
      "[11, 5, 3, 1, 7, 13]\n"
     ]
    }
   ],
   "source": [
    "numbers = [13, 7, 1, 3, 5, 11]\n",
    "numbers.reverse()\n",
    "print(numbers) "
   ]
  },
  {
   "cell_type": "code",
   "execution_count": null,
   "metadata": {},
   "outputs": [
    {
     "name": "stdout",
     "output_type": "stream",
     "text": [
      "[1, 3, 5, 7, 11, 13]\n"
     ]
    }
   ],
   "source": [
    "numbers.sort()\n",
    "print(numbers)"
   ]
  },
  {
   "cell_type": "markdown",
   "metadata": {},
   "source": [
    "### List comprehension\n",
    "\n",
    "A list comprehension is a way to create a new list based on an existing list."
   ]
  },
  {
   "cell_type": "code",
   "execution_count": 16,
   "metadata": {},
   "outputs": [
    {
     "name": "stdout",
     "output_type": "stream",
     "text": [
      "[1, 4, 9, 16, 25, 36, 49, 64, 81, 100]\n"
     ]
    }
   ],
   "source": [
    "# Square of numbers from 1 to 10\n",
    "sq = [x**2 for x in range(1, 11)]\n",
    "print(sq)"
   ]
  },
  {
   "cell_type": "code",
   "execution_count": 17,
   "metadata": {},
   "outputs": [
    {
     "name": "stdout",
     "output_type": "stream",
     "text": [
      "['PYTHON', 'COURSE', 'LIST']\n"
     ]
    }
   ],
   "source": [
    "# Convert list of words to uppercase\n",
    "word = [\"python\", \"course\", \"list\"]\n",
    "word_maj = [mot.upper() for mot in word]\n",
    "print(word_maj)"
   ]
  }
 ],
 "metadata": {
  "kernelspec": {
   "display_name": "Python 3",
   "language": "python",
   "name": "python3"
  },
  "language_info": {
   "codemirror_mode": {
    "name": "ipython",
    "version": 3
   },
   "file_extension": ".py",
   "mimetype": "text/x-python",
   "name": "python",
   "nbconvert_exporter": "python",
   "pygments_lexer": "ipython3",
   "version": "3.10.12"
  }
 },
 "nbformat": 4,
 "nbformat_minor": 2
}
